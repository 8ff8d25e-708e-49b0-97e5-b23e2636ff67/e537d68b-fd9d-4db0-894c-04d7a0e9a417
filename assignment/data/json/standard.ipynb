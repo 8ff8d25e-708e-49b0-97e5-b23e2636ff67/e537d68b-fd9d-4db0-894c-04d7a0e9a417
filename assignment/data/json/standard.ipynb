{
 "cells": [
  {
   "cell_type": "code",
   "execution_count": 1,
   "id": "initial_id",
   "metadata": {
    "collapsed": true,
    "ExecuteTime": {
     "end_time": "2025-06-21T16:07:28.566763Z",
     "start_time": "2025-06-21T16:07:28.150739Z"
    }
   },
   "outputs": [],
   "source": [
    "import pandas as pd\n"
   ]
  },
  {
   "cell_type": "code",
   "outputs": [
    {
     "data": {
      "text/plain": "    gpmlElementName                    id      kaavioType  \\\n0          DataNode                 a0f65  SingleFreeNode   \n1          DataNode                 a1493  SingleFreeNode   \n2          DataNode                 a1b82  SingleFreeNode   \n3       Interaction                 a1f55            Edge   \n4            Anchor                 a2b1c            Burr   \n..              ...                   ...             ...   \n245     Interaction            idedb91888            Edge   \n246     Interaction            idf478372c            Edge   \n247     Interaction            idf7ba2d00            Edge   \n248     Interaction            idff116bc7            Edge   \n276          Anchor  pvjsgeneratedidffe17            Burr   \n\n                             textContent  \\\n0        Corticosterone \\nmethyl oxidase   \n1                                  NADPH   \n2    Androgen synthesis\\n and metabolism   \n3                                    NaN   \n4                                    NaN   \n..                                   ...   \n245                                  NaN   \n246                                  NaN   \n247                                  NaN   \n248                                  NaN   \n276                                  NaN   \n\n                                                  type      wpType  \\\n0    [DataNode, SingleFreeNode, Ensembl:ENSG0000017...     Protein   \n1    [DataNode, SingleFreeNode, ChEBI:CHEBI:57783, ...  Metabolite   \n2    [DataNode, SingleFreeNode, WikiPathways:WP496,...     Pathway   \n3                                  [Interaction, Edge]         NaN   \n4                                       [Anchor, Burr]         NaN   \n..                                                 ...         ...   \n245                                [Interaction, Edge]         NaN   \n246                    [Interaction, Edge, Rhea:11390]         NaN   \n247                    [Interaction, Edge, Rhea:53117]         NaN   \n248                                [Interaction, Edge]         NaN   \n276                                     [Anchor, Burr]         NaN   \n\n    xrefDataSource   xrefIdentifier         isAttachedTo       markerEnd  ...  \\\n0          Ensembl  ENSG00000179142                  NaN             NaN  ...   \n1            ChEBI      CHEBI:57783                  NaN             NaN  ...   \n2     WikiPathways            WP496                  NaN             NaN  ...   \n3              NaN              NaN       [abdca, cb0a0]    MimCatalysis  ...   \n4              NaN              NaN           idacecac07             NaN  ...   \n..             ...              ...                  ...             ...  ...   \n245            NaN              NaN       [d8960, cd588]  MimStimulation  ...   \n246           Rhea            11390       [b8f6e, ce91d]   MimConversion  ...   \n247           Rhea            53117       [ce91d, b8f6e]   MimConversion  ...   \n248            NaN              NaN  [e8129, id6ff5899a]    MimCatalysis  ...   \n276            NaN              NaN                d4c61             NaN  ...   \n\n    strokeStyle href backpageHead    burrs ontology term authors source  \\\n0           NaN  NaN          NaN      NaN      NaN  NaN     NaN    NaN   \n1           NaN  NaN          NaN      NaN      NaN  NaN     NaN    NaN   \n2           NaN  NaN          NaN      NaN      NaN  NaN     NaN    NaN   \n3           NaN  NaN          NaN      NaN      NaN  NaN     NaN    NaN   \n4           NaN  NaN          NaN      NaN      NaN  NaN     NaN    NaN   \n..          ...  ...          ...      ...      ...  ...     ...    ...   \n245         NaN  NaN          NaN      NaN      NaN  NaN     NaN    NaN   \n246         NaN  NaN          NaN  [dcada]      NaN  NaN     NaN    NaN   \n247         NaN  NaN          NaN  [e85ea]      NaN  NaN     NaN    NaN   \n248         NaN  NaN          NaN      NaN      NaN  NaN     NaN    NaN   \n276         NaN  NaN          NaN      NaN      NaN  NaN     NaN    NaN   \n\n    standardName year  \n0            NaN  NaN  \n1            NaN  NaN  \n2            NaN  NaN  \n3            NaN  NaN  \n4            NaN  NaN  \n..           ...  ...  \n245          NaN  NaN  \n246          NaN  NaN  \n247          NaN  NaN  \n248          NaN  NaN  \n276          NaN  NaN  \n\n[235 rows x 22 columns]",
      "text/html": "<div>\n<style scoped>\n    .dataframe tbody tr th:only-of-type {\n        vertical-align: middle;\n    }\n\n    .dataframe tbody tr th {\n        vertical-align: top;\n    }\n\n    .dataframe thead th {\n        text-align: right;\n    }\n</style>\n<table border=\"1\" class=\"dataframe\">\n  <thead>\n    <tr style=\"text-align: right;\">\n      <th></th>\n      <th>gpmlElementName</th>\n      <th>id</th>\n      <th>kaavioType</th>\n      <th>textContent</th>\n      <th>type</th>\n      <th>wpType</th>\n      <th>xrefDataSource</th>\n      <th>xrefIdentifier</th>\n      <th>isAttachedTo</th>\n      <th>markerEnd</th>\n      <th>...</th>\n      <th>strokeStyle</th>\n      <th>href</th>\n      <th>backpageHead</th>\n      <th>burrs</th>\n      <th>ontology</th>\n      <th>term</th>\n      <th>authors</th>\n      <th>source</th>\n      <th>standardName</th>\n      <th>year</th>\n    </tr>\n  </thead>\n  <tbody>\n    <tr>\n      <th>0</th>\n      <td>DataNode</td>\n      <td>a0f65</td>\n      <td>SingleFreeNode</td>\n      <td>Corticosterone \\nmethyl oxidase</td>\n      <td>[DataNode, SingleFreeNode, Ensembl:ENSG0000017...</td>\n      <td>Protein</td>\n      <td>Ensembl</td>\n      <td>ENSG00000179142</td>\n      <td>NaN</td>\n      <td>NaN</td>\n      <td>...</td>\n      <td>NaN</td>\n      <td>NaN</td>\n      <td>NaN</td>\n      <td>NaN</td>\n      <td>NaN</td>\n      <td>NaN</td>\n      <td>NaN</td>\n      <td>NaN</td>\n      <td>NaN</td>\n      <td>NaN</td>\n    </tr>\n    <tr>\n      <th>1</th>\n      <td>DataNode</td>\n      <td>a1493</td>\n      <td>SingleFreeNode</td>\n      <td>NADPH</td>\n      <td>[DataNode, SingleFreeNode, ChEBI:CHEBI:57783, ...</td>\n      <td>Metabolite</td>\n      <td>ChEBI</td>\n      <td>CHEBI:57783</td>\n      <td>NaN</td>\n      <td>NaN</td>\n      <td>...</td>\n      <td>NaN</td>\n      <td>NaN</td>\n      <td>NaN</td>\n      <td>NaN</td>\n      <td>NaN</td>\n      <td>NaN</td>\n      <td>NaN</td>\n      <td>NaN</td>\n      <td>NaN</td>\n      <td>NaN</td>\n    </tr>\n    <tr>\n      <th>2</th>\n      <td>DataNode</td>\n      <td>a1b82</td>\n      <td>SingleFreeNode</td>\n      <td>Androgen synthesis\\n and metabolism</td>\n      <td>[DataNode, SingleFreeNode, WikiPathways:WP496,...</td>\n      <td>Pathway</td>\n      <td>WikiPathways</td>\n      <td>WP496</td>\n      <td>NaN</td>\n      <td>NaN</td>\n      <td>...</td>\n      <td>NaN</td>\n      <td>NaN</td>\n      <td>NaN</td>\n      <td>NaN</td>\n      <td>NaN</td>\n      <td>NaN</td>\n      <td>NaN</td>\n      <td>NaN</td>\n      <td>NaN</td>\n      <td>NaN</td>\n    </tr>\n    <tr>\n      <th>3</th>\n      <td>Interaction</td>\n      <td>a1f55</td>\n      <td>Edge</td>\n      <td>NaN</td>\n      <td>[Interaction, Edge]</td>\n      <td>NaN</td>\n      <td>NaN</td>\n      <td>NaN</td>\n      <td>[abdca, cb0a0]</td>\n      <td>MimCatalysis</td>\n      <td>...</td>\n      <td>NaN</td>\n      <td>NaN</td>\n      <td>NaN</td>\n      <td>NaN</td>\n      <td>NaN</td>\n      <td>NaN</td>\n      <td>NaN</td>\n      <td>NaN</td>\n      <td>NaN</td>\n      <td>NaN</td>\n    </tr>\n    <tr>\n      <th>4</th>\n      <td>Anchor</td>\n      <td>a2b1c</td>\n      <td>Burr</td>\n      <td>NaN</td>\n      <td>[Anchor, Burr]</td>\n      <td>NaN</td>\n      <td>NaN</td>\n      <td>NaN</td>\n      <td>idacecac07</td>\n      <td>NaN</td>\n      <td>...</td>\n      <td>NaN</td>\n      <td>NaN</td>\n      <td>NaN</td>\n      <td>NaN</td>\n      <td>NaN</td>\n      <td>NaN</td>\n      <td>NaN</td>\n      <td>NaN</td>\n      <td>NaN</td>\n      <td>NaN</td>\n    </tr>\n    <tr>\n      <th>...</th>\n      <td>...</td>\n      <td>...</td>\n      <td>...</td>\n      <td>...</td>\n      <td>...</td>\n      <td>...</td>\n      <td>...</td>\n      <td>...</td>\n      <td>...</td>\n      <td>...</td>\n      <td>...</td>\n      <td>...</td>\n      <td>...</td>\n      <td>...</td>\n      <td>...</td>\n      <td>...</td>\n      <td>...</td>\n      <td>...</td>\n      <td>...</td>\n      <td>...</td>\n      <td>...</td>\n    </tr>\n    <tr>\n      <th>245</th>\n      <td>Interaction</td>\n      <td>idedb91888</td>\n      <td>Edge</td>\n      <td>NaN</td>\n      <td>[Interaction, Edge]</td>\n      <td>NaN</td>\n      <td>NaN</td>\n      <td>NaN</td>\n      <td>[d8960, cd588]</td>\n      <td>MimStimulation</td>\n      <td>...</td>\n      <td>NaN</td>\n      <td>NaN</td>\n      <td>NaN</td>\n      <td>NaN</td>\n      <td>NaN</td>\n      <td>NaN</td>\n      <td>NaN</td>\n      <td>NaN</td>\n      <td>NaN</td>\n      <td>NaN</td>\n    </tr>\n    <tr>\n      <th>246</th>\n      <td>Interaction</td>\n      <td>idf478372c</td>\n      <td>Edge</td>\n      <td>NaN</td>\n      <td>[Interaction, Edge, Rhea:11390]</td>\n      <td>NaN</td>\n      <td>Rhea</td>\n      <td>11390</td>\n      <td>[b8f6e, ce91d]</td>\n      <td>MimConversion</td>\n      <td>...</td>\n      <td>NaN</td>\n      <td>NaN</td>\n      <td>NaN</td>\n      <td>[dcada]</td>\n      <td>NaN</td>\n      <td>NaN</td>\n      <td>NaN</td>\n      <td>NaN</td>\n      <td>NaN</td>\n      <td>NaN</td>\n    </tr>\n    <tr>\n      <th>247</th>\n      <td>Interaction</td>\n      <td>idf7ba2d00</td>\n      <td>Edge</td>\n      <td>NaN</td>\n      <td>[Interaction, Edge, Rhea:53117]</td>\n      <td>NaN</td>\n      <td>Rhea</td>\n      <td>53117</td>\n      <td>[ce91d, b8f6e]</td>\n      <td>MimConversion</td>\n      <td>...</td>\n      <td>NaN</td>\n      <td>NaN</td>\n      <td>NaN</td>\n      <td>[e85ea]</td>\n      <td>NaN</td>\n      <td>NaN</td>\n      <td>NaN</td>\n      <td>NaN</td>\n      <td>NaN</td>\n      <td>NaN</td>\n    </tr>\n    <tr>\n      <th>248</th>\n      <td>Interaction</td>\n      <td>idff116bc7</td>\n      <td>Edge</td>\n      <td>NaN</td>\n      <td>[Interaction, Edge]</td>\n      <td>NaN</td>\n      <td>NaN</td>\n      <td>NaN</td>\n      <td>[e8129, id6ff5899a]</td>\n      <td>MimCatalysis</td>\n      <td>...</td>\n      <td>NaN</td>\n      <td>NaN</td>\n      <td>NaN</td>\n      <td>NaN</td>\n      <td>NaN</td>\n      <td>NaN</td>\n      <td>NaN</td>\n      <td>NaN</td>\n      <td>NaN</td>\n      <td>NaN</td>\n    </tr>\n    <tr>\n      <th>276</th>\n      <td>Anchor</td>\n      <td>pvjsgeneratedidffe17</td>\n      <td>Burr</td>\n      <td>NaN</td>\n      <td>[Anchor, Burr]</td>\n      <td>NaN</td>\n      <td>NaN</td>\n      <td>NaN</td>\n      <td>d4c61</td>\n      <td>NaN</td>\n      <td>...</td>\n      <td>NaN</td>\n      <td>NaN</td>\n      <td>NaN</td>\n      <td>NaN</td>\n      <td>NaN</td>\n      <td>NaN</td>\n      <td>NaN</td>\n      <td>NaN</td>\n      <td>NaN</td>\n      <td>NaN</td>\n    </tr>\n  </tbody>\n</table>\n<p>235 rows × 22 columns</p>\n</div>"
     },
     "execution_count": 4,
     "metadata": {},
     "output_type": "execute_result"
    }
   ],
   "source": [
    "df = pd.read_json('./wp4523.json')\n",
    "df = pd.json_normalize(df['entitiesById'])\n",
    "df.drop(columns=['drawAs', 'fill', 'points', 'stroke', 'strokeWidth', 'zIndex', 'fontFamily', 'fontSize', 'fontStyle', 'fontWeight', 'height', 'lineHeight', 'overflow', 'padding', 'textAlign', 'textDecoration', 'textOverflow', 'verticalAlign', 'whiteSpace', 'width', 'x', 'y', 'rx', 'ry', 'attachmentDisplay.offset', 'attachmentDisplay.position', 'contains', 'fillOpacity', 'strokeDasharray', 'citations'], inplace=True)\n",
    "df = df[df['gpmlElementName'] != 'PublicationXref']\n",
    "df = df[df['gpmlElementName'] != 'openControlledVocabulary'] \n",
    "df = df[df['gpmlElementName'].notnull()] \n",
    "df"
   ],
   "metadata": {
    "collapsed": false,
    "ExecuteTime": {
     "end_time": "2025-06-21T16:08:12.146723Z",
     "start_time": "2025-06-21T16:08:12.127631Z"
    }
   },
   "id": "fe58e985018e6476",
   "execution_count": 4
  },
  {
   "cell_type": "code",
   "outputs": [
    {
     "data": {
      "text/plain": "        id                                     textContent   xrefIdentifier  \\\n0    a0f65                 Corticosterone \\nmethyl oxidase  ENSG00000179142   \n1    a1493                                           NADPH      CHEBI:57783   \n6    a5a88                                         P450scc  ENSG00000140459   \n14   a9453                             Dihydrotestosterone      CHEBI:16330   \n17   aa2bd                                      3-beta-HSD  ENSG00000203859   \n..     ...                                             ...              ...   \n152  faa89                        3B-OH-delta-\\nSteroid Dh        1.1.1.145   \n154  fbb24  3a,11b,21-Trihydroxy-20-\\nOxo-5b-Pregnan-18-al         44263346   \n155  fbf29                                         P450Aro  ENSG00000137869   \n163  fe097                                    Glucuronides      CHEBI:26763   \n167  ff573                                    Pregnenolone      CHEBI:16581   \n\n                                   comments isPartOf strokeStyle backpageHead  \n0                                       NaN      NaN         NaN          NaN  \n1                                       NaN      NaN         NaN          NaN  \n6    [{'content': 'also known as CYP11A1'}]    a87fe         NaN          NaN  \n14                                      NaN      NaN         NaN          NaN  \n17                                      NaN      NaN         NaN          NaN  \n..                                      ...      ...         ...          ...  \n152                                     NaN    ba05f         NaN          NaN  \n154                                     NaN      NaN         NaN          NaN  \n155                                     NaN      NaN         NaN          NaN  \n163                                     NaN      NaN         NaN          NaN  \n167                                     NaN      NaN      double          NaN  \n\n[62 rows x 7 columns]",
      "text/html": "<div>\n<style scoped>\n    .dataframe tbody tr th:only-of-type {\n        vertical-align: middle;\n    }\n\n    .dataframe tbody tr th {\n        vertical-align: top;\n    }\n\n    .dataframe thead th {\n        text-align: right;\n    }\n</style>\n<table border=\"1\" class=\"dataframe\">\n  <thead>\n    <tr style=\"text-align: right;\">\n      <th></th>\n      <th>id</th>\n      <th>textContent</th>\n      <th>xrefIdentifier</th>\n      <th>comments</th>\n      <th>isPartOf</th>\n      <th>strokeStyle</th>\n      <th>backpageHead</th>\n    </tr>\n  </thead>\n  <tbody>\n    <tr>\n      <th>0</th>\n      <td>a0f65</td>\n      <td>Corticosterone \\nmethyl oxidase</td>\n      <td>ENSG00000179142</td>\n      <td>NaN</td>\n      <td>NaN</td>\n      <td>NaN</td>\n      <td>NaN</td>\n    </tr>\n    <tr>\n      <th>1</th>\n      <td>a1493</td>\n      <td>NADPH</td>\n      <td>CHEBI:57783</td>\n      <td>NaN</td>\n      <td>NaN</td>\n      <td>NaN</td>\n      <td>NaN</td>\n    </tr>\n    <tr>\n      <th>6</th>\n      <td>a5a88</td>\n      <td>P450scc</td>\n      <td>ENSG00000140459</td>\n      <td>[{'content': 'also known as CYP11A1'}]</td>\n      <td>a87fe</td>\n      <td>NaN</td>\n      <td>NaN</td>\n    </tr>\n    <tr>\n      <th>14</th>\n      <td>a9453</td>\n      <td>Dihydrotestosterone</td>\n      <td>CHEBI:16330</td>\n      <td>NaN</td>\n      <td>NaN</td>\n      <td>NaN</td>\n      <td>NaN</td>\n    </tr>\n    <tr>\n      <th>17</th>\n      <td>aa2bd</td>\n      <td>3-beta-HSD</td>\n      <td>ENSG00000203859</td>\n      <td>NaN</td>\n      <td>NaN</td>\n      <td>NaN</td>\n      <td>NaN</td>\n    </tr>\n    <tr>\n      <th>...</th>\n      <td>...</td>\n      <td>...</td>\n      <td>...</td>\n      <td>...</td>\n      <td>...</td>\n      <td>...</td>\n      <td>...</td>\n    </tr>\n    <tr>\n      <th>152</th>\n      <td>faa89</td>\n      <td>3B-OH-delta-\\nSteroid Dh</td>\n      <td>1.1.1.145</td>\n      <td>NaN</td>\n      <td>ba05f</td>\n      <td>NaN</td>\n      <td>NaN</td>\n    </tr>\n    <tr>\n      <th>154</th>\n      <td>fbb24</td>\n      <td>3a,11b,21-Trihydroxy-20-\\nOxo-5b-Pregnan-18-al</td>\n      <td>44263346</td>\n      <td>NaN</td>\n      <td>NaN</td>\n      <td>NaN</td>\n      <td>NaN</td>\n    </tr>\n    <tr>\n      <th>155</th>\n      <td>fbf29</td>\n      <td>P450Aro</td>\n      <td>ENSG00000137869</td>\n      <td>NaN</td>\n      <td>NaN</td>\n      <td>NaN</td>\n      <td>NaN</td>\n    </tr>\n    <tr>\n      <th>163</th>\n      <td>fe097</td>\n      <td>Glucuronides</td>\n      <td>CHEBI:26763</td>\n      <td>NaN</td>\n      <td>NaN</td>\n      <td>NaN</td>\n      <td>NaN</td>\n    </tr>\n    <tr>\n      <th>167</th>\n      <td>ff573</td>\n      <td>Pregnenolone</td>\n      <td>CHEBI:16581</td>\n      <td>NaN</td>\n      <td>NaN</td>\n      <td>double</td>\n      <td>NaN</td>\n    </tr>\n  </tbody>\n</table>\n<p>62 rows × 7 columns</p>\n</div>"
     },
     "execution_count": 5,
     "metadata": {},
     "output_type": "execute_result"
    }
   ],
   "source": [
    "df_nodes = df[df['gpmlElementName'] == 'DataNode'].dropna(axis=1, how='all')\n",
    "df_nodes = df_nodes[df_nodes['wpType'] != 'Pathway']\n",
    "df_nodes = df_nodes[df_nodes['wpType'] != 'GeneProduct']\n",
    "df_nodes.drop(columns=['gpmlElementName', 'kaavioType', 'type', 'xrefDataSource', 'wpType'], inplace=True)\n",
    "\n",
    "df_nodes\n",
    "# df_nodes['type']"
   ],
   "metadata": {
    "collapsed": false,
    "ExecuteTime": {
     "end_time": "2025-06-21T16:47:09.985512Z",
     "start_time": "2025-06-21T16:47:09.951242Z"
    }
   },
   "id": "1dad5aa0b77d0bc3",
   "execution_count": 5
  },
  {
   "cell_type": "code",
   "outputs": [
    {
     "data": {
      "text/plain": "    gpmlElementName          id kaavioType  \\\n3       Interaction       a1f55       Edge   \n8       Interaction       a6c77       Edge   \n13      Interaction       a895f       Edge   \n36      Interaction       b5d48       Edge   \n56      Interaction       c5939       Edge   \n..              ...         ...        ...   \n244     Interaction  ide7e364be       Edge   \n245     Interaction  idedb91888       Edge   \n246     Interaction  idf478372c       Edge   \n247     Interaction  idf7ba2d00       Edge   \n248     Interaction  idff116bc7       Edge   \n\n                                                  type xrefDataSource  \\\n3                                  [Interaction, Edge]            NaN   \n8                                  [Interaction, Edge]            NaN   \n13   [Interaction, Edge, SBO:0000167, SBO:0000393, ...            NaN   \n36                                 [Interaction, Edge]            NaN   \n56                                 [Interaction, Edge]            NaN   \n..                                                 ...            ...   \n244                                [Interaction, Edge]            NaN   \n245                                [Interaction, Edge]            NaN   \n246                    [Interaction, Edge, Rhea:11390]           Rhea   \n247                    [Interaction, Edge, Rhea:53117]           Rhea   \n248                                [Interaction, Edge]            NaN   \n\n    xrefIdentifier         isAttachedTo       markerEnd  \\\n3              NaN       [abdca, cb0a0]    MimCatalysis   \n8              NaN       [b6cb0, a1b82]             NaN   \n13             NaN       [f2829, fe097]           Arrow   \n36             NaN  [fbac5, id9f130f49]    MimCatalysis   \n56             NaN  [db9af, id76fd2d3d]    MimCatalysis   \n..             ...                  ...             ...   \n244            NaN  [a1493, idf478372c]   MimConversion   \n245            NaN       [d8960, cd588]  MimStimulation   \n246          11390       [b8f6e, ce91d]   MimConversion   \n247          53117       [ce91d, b8f6e]   MimConversion   \n248            NaN  [e8129, id6ff5899a]    MimCatalysis   \n\n                                              comments    burrs  \n3                                                  NaN      NaN  \n8                                                  NaN      NaN  \n13                                                 NaN      NaN  \n36                                                 NaN      NaN  \n56                                                 NaN      NaN  \n..                                                 ...      ...  \n244                                                NaN      NaN  \n245                                                NaN      NaN  \n246  [{'content': 'Reference study in mice [PMID:94...  [dcada]  \n247                                                NaN  [e85ea]  \n248                                                NaN      NaN  \n\n[86 rows x 10 columns]",
      "text/html": "<div>\n<style scoped>\n    .dataframe tbody tr th:only-of-type {\n        vertical-align: middle;\n    }\n\n    .dataframe tbody tr th {\n        vertical-align: top;\n    }\n\n    .dataframe thead th {\n        text-align: right;\n    }\n</style>\n<table border=\"1\" class=\"dataframe\">\n  <thead>\n    <tr style=\"text-align: right;\">\n      <th></th>\n      <th>gpmlElementName</th>\n      <th>id</th>\n      <th>kaavioType</th>\n      <th>type</th>\n      <th>xrefDataSource</th>\n      <th>xrefIdentifier</th>\n      <th>isAttachedTo</th>\n      <th>markerEnd</th>\n      <th>comments</th>\n      <th>burrs</th>\n    </tr>\n  </thead>\n  <tbody>\n    <tr>\n      <th>3</th>\n      <td>Interaction</td>\n      <td>a1f55</td>\n      <td>Edge</td>\n      <td>[Interaction, Edge]</td>\n      <td>NaN</td>\n      <td>NaN</td>\n      <td>[abdca, cb0a0]</td>\n      <td>MimCatalysis</td>\n      <td>NaN</td>\n      <td>NaN</td>\n    </tr>\n    <tr>\n      <th>8</th>\n      <td>Interaction</td>\n      <td>a6c77</td>\n      <td>Edge</td>\n      <td>[Interaction, Edge]</td>\n      <td>NaN</td>\n      <td>NaN</td>\n      <td>[b6cb0, a1b82]</td>\n      <td>NaN</td>\n      <td>NaN</td>\n      <td>NaN</td>\n    </tr>\n    <tr>\n      <th>13</th>\n      <td>Interaction</td>\n      <td>a895f</td>\n      <td>Edge</td>\n      <td>[Interaction, Edge, SBO:0000167, SBO:0000393, ...</td>\n      <td>NaN</td>\n      <td>NaN</td>\n      <td>[f2829, fe097]</td>\n      <td>Arrow</td>\n      <td>NaN</td>\n      <td>NaN</td>\n    </tr>\n    <tr>\n      <th>36</th>\n      <td>Interaction</td>\n      <td>b5d48</td>\n      <td>Edge</td>\n      <td>[Interaction, Edge]</td>\n      <td>NaN</td>\n      <td>NaN</td>\n      <td>[fbac5, id9f130f49]</td>\n      <td>MimCatalysis</td>\n      <td>NaN</td>\n      <td>NaN</td>\n    </tr>\n    <tr>\n      <th>56</th>\n      <td>Interaction</td>\n      <td>c5939</td>\n      <td>Edge</td>\n      <td>[Interaction, Edge]</td>\n      <td>NaN</td>\n      <td>NaN</td>\n      <td>[db9af, id76fd2d3d]</td>\n      <td>MimCatalysis</td>\n      <td>NaN</td>\n      <td>NaN</td>\n    </tr>\n    <tr>\n      <th>...</th>\n      <td>...</td>\n      <td>...</td>\n      <td>...</td>\n      <td>...</td>\n      <td>...</td>\n      <td>...</td>\n      <td>...</td>\n      <td>...</td>\n      <td>...</td>\n      <td>...</td>\n    </tr>\n    <tr>\n      <th>244</th>\n      <td>Interaction</td>\n      <td>ide7e364be</td>\n      <td>Edge</td>\n      <td>[Interaction, Edge]</td>\n      <td>NaN</td>\n      <td>NaN</td>\n      <td>[a1493, idf478372c]</td>\n      <td>MimConversion</td>\n      <td>NaN</td>\n      <td>NaN</td>\n    </tr>\n    <tr>\n      <th>245</th>\n      <td>Interaction</td>\n      <td>idedb91888</td>\n      <td>Edge</td>\n      <td>[Interaction, Edge]</td>\n      <td>NaN</td>\n      <td>NaN</td>\n      <td>[d8960, cd588]</td>\n      <td>MimStimulation</td>\n      <td>NaN</td>\n      <td>NaN</td>\n    </tr>\n    <tr>\n      <th>246</th>\n      <td>Interaction</td>\n      <td>idf478372c</td>\n      <td>Edge</td>\n      <td>[Interaction, Edge, Rhea:11390]</td>\n      <td>Rhea</td>\n      <td>11390</td>\n      <td>[b8f6e, ce91d]</td>\n      <td>MimConversion</td>\n      <td>[{'content': 'Reference study in mice [PMID:94...</td>\n      <td>[dcada]</td>\n    </tr>\n    <tr>\n      <th>247</th>\n      <td>Interaction</td>\n      <td>idf7ba2d00</td>\n      <td>Edge</td>\n      <td>[Interaction, Edge, Rhea:53117]</td>\n      <td>Rhea</td>\n      <td>53117</td>\n      <td>[ce91d, b8f6e]</td>\n      <td>MimConversion</td>\n      <td>NaN</td>\n      <td>[e85ea]</td>\n    </tr>\n    <tr>\n      <th>248</th>\n      <td>Interaction</td>\n      <td>idff116bc7</td>\n      <td>Edge</td>\n      <td>[Interaction, Edge]</td>\n      <td>NaN</td>\n      <td>NaN</td>\n      <td>[e8129, id6ff5899a]</td>\n      <td>MimCatalysis</td>\n      <td>NaN</td>\n      <td>NaN</td>\n    </tr>\n  </tbody>\n</table>\n<p>86 rows × 10 columns</p>\n</div>"
     },
     "execution_count": 6,
     "metadata": {},
     "output_type": "execute_result"
    }
   ],
   "source": [
    "df_edges = df[df['gpmlElementName'] == 'Interaction'].dropna(axis=1, how='all')\n",
    "# df_edges.drop(columns=['gpmlElementName', 'kaavioType', 'markerEnd', 'type', 'xrefDataSource', 'xrefIdentifier', 'burrs', 'comments'], inplace=True)\n",
    "# df_edges = df_edges.explode('isAttachedTo', ignore_index=True)\n",
    "\n",
    "df_edges"
   ],
   "metadata": {
    "collapsed": false,
    "ExecuteTime": {
     "end_time": "2025-06-21T16:47:45.107290Z",
     "start_time": "2025-06-21T16:47:45.098314Z"
    }
   },
   "id": "b17e69fa12d792ac",
   "execution_count": 6
  },
  {
   "cell_type": "code",
   "outputs": [],
   "source": [],
   "metadata": {
    "collapsed": false
   },
   "id": "1d9a644566a53342"
  }
 ],
 "metadata": {
  "kernelspec": {
   "display_name": "Python 3",
   "language": "python",
   "name": "python3"
  },
  "language_info": {
   "codemirror_mode": {
    "name": "ipython",
    "version": 2
   },
   "file_extension": ".py",
   "mimetype": "text/x-python",
   "name": "python",
   "nbconvert_exporter": "python",
   "pygments_lexer": "ipython2",
   "version": "2.7.6"
  }
 },
 "nbformat": 4,
 "nbformat_minor": 5
}
