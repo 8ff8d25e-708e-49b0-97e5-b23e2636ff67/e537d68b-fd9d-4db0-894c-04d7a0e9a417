{
 "cells": [
  {
   "cell_type": "code",
   "execution_count": 22,
   "id": "initial_id",
   "metadata": {
    "collapsed": true,
    "ExecuteTime": {
     "end_time": "2025-06-21T15:25:29.478474Z",
     "start_time": "2025-06-21T15:25:29.474738Z"
    }
   },
   "outputs": [],
   "source": [
    "import pandas as pd\n"
   ]
  },
  {
   "cell_type": "code",
   "execution_count": 51,
   "outputs": [
    {
     "data": {
      "text/plain": "   gpmlElementName     id    isAttachedTo      kaavioType      markerEnd  \\\n0      Interaction  a074e  [c7978, fde6c]            Edge   MimCatalysis   \n1         DataNode  a3642             NaN  SingleFreeNode            NaN   \n2         DataNode  a452a             NaN  SingleFreeNode            NaN   \n3      Interaction  a5fdb  [ba0ac, eea0d]            Edge  MimConversion   \n4      Interaction  a6b74  [c6124, f478b]            Edge   MimCatalysis   \n..             ...    ...             ...             ...            ...   \n82        DataNode  fc254             NaN  SingleFreeNode            NaN   \n83        DataNode  fc6b7             NaN  SingleFreeNode            NaN   \n84     Interaction  fde6c  [f2eec, efcee]            Edge  MimConversion   \n85        DataNode  fe015             NaN  SingleFreeNode            NaN   \n86     Interaction  feda2  [f5ff5, e43d7]            Edge  MimConversion   \n\n                                                 type  \\\n0                                 [Interaction, Edge]   \n1   [DataNode, SingleFreeNode, Uniprot-TrEMBL:P140...   \n2   [DataNode, SingleFreeNode, WikiPathways:WP5280...   \n3                     [Interaction, Edge, Rhea:42114]   \n4                                 [Interaction, Edge]   \n..                                                ...   \n82  [DataNode, SingleFreeNode, Uniprot-TrEMBL:P518...   \n83  [DataNode, SingleFreeNode, LIPID MAPS:LMST0203...   \n84                    [Interaction, Edge, Rhea:34340]   \n85  [DataNode, SingleFreeNode, LIPID MAPS:LMST0203...   \n86                                [Interaction, Edge]   \n\n                     textContent       wpType  xrefDataSource xrefIdentifier  \\\n0                            NaN          NaN             NaN            NaN   \n1                         HSD3B1  GeneProduct  Uniprot-TrEMBL         P14060   \n2   Glucocorticoid\\nbiosynthesis      Pathway    WikiPathways         WP5280   \n3                            NaN          NaN            Rhea          42114   \n4                            NaN          NaN             NaN            NaN   \n..                           ...          ...             ...            ...   \n82                        AKR1D1  GeneProduct  Uniprot-TrEMBL         P51857   \n83                  Pregnenediol   Metabolite      LIPID MAPS   LMST02030205   \n84                           NaN          NaN            Rhea          34340   \n85              Allopregnanolone   Metabolite      LIPID MAPS   LMST02030130   \n86                           NaN          NaN             NaN            NaN   \n\n      burrs                        comments ontology term authors source  \\\n0       NaN                             NaN      NaN  NaN     NaN    NaN   \n1       NaN                             NaN      NaN  NaN     NaN    NaN   \n2       NaN                             NaN      NaN  NaN     NaN    NaN   \n3   [f580a]                             NaN      NaN  NaN     NaN    NaN   \n4       NaN  [{'content': 'EC:1.14.14.16'}]      NaN  NaN     NaN    NaN   \n..      ...                             ...      ...  ...     ...    ...   \n82      NaN                             NaN      NaN  NaN     NaN    NaN   \n83      NaN                             NaN      NaN  NaN     NaN    NaN   \n84  [f02d8]   [{'content': 'EC:1.14.15.6'}]      NaN  NaN     NaN    NaN   \n85      NaN                             NaN      NaN  NaN     NaN    NaN   \n86      NaN                             NaN      NaN  NaN     NaN    NaN   \n\n   standardName  year  \n0           NaN   NaN  \n1           NaN   NaN  \n2           NaN   NaN  \n3           NaN   NaN  \n4           NaN   NaN  \n..          ...   ...  \n82          NaN   NaN  \n83          NaN   NaN  \n84          NaN   NaN  \n85          NaN   NaN  \n86          NaN   NaN  \n\n[87 rows x 18 columns]",
      "text/html": "<div>\n<style scoped>\n    .dataframe tbody tr th:only-of-type {\n        vertical-align: middle;\n    }\n\n    .dataframe tbody tr th {\n        vertical-align: top;\n    }\n\n    .dataframe thead th {\n        text-align: right;\n    }\n</style>\n<table border=\"1\" class=\"dataframe\">\n  <thead>\n    <tr style=\"text-align: right;\">\n      <th></th>\n      <th>gpmlElementName</th>\n      <th>id</th>\n      <th>isAttachedTo</th>\n      <th>kaavioType</th>\n      <th>markerEnd</th>\n      <th>type</th>\n      <th>textContent</th>\n      <th>wpType</th>\n      <th>xrefDataSource</th>\n      <th>xrefIdentifier</th>\n      <th>burrs</th>\n      <th>comments</th>\n      <th>ontology</th>\n      <th>term</th>\n      <th>authors</th>\n      <th>source</th>\n      <th>standardName</th>\n      <th>year</th>\n    </tr>\n  </thead>\n  <tbody>\n    <tr>\n      <th>0</th>\n      <td>Interaction</td>\n      <td>a074e</td>\n      <td>[c7978, fde6c]</td>\n      <td>Edge</td>\n      <td>MimCatalysis</td>\n      <td>[Interaction, Edge]</td>\n      <td>NaN</td>\n      <td>NaN</td>\n      <td>NaN</td>\n      <td>NaN</td>\n      <td>NaN</td>\n      <td>NaN</td>\n      <td>NaN</td>\n      <td>NaN</td>\n      <td>NaN</td>\n      <td>NaN</td>\n      <td>NaN</td>\n      <td>NaN</td>\n    </tr>\n    <tr>\n      <th>1</th>\n      <td>DataNode</td>\n      <td>a3642</td>\n      <td>NaN</td>\n      <td>SingleFreeNode</td>\n      <td>NaN</td>\n      <td>[DataNode, SingleFreeNode, Uniprot-TrEMBL:P140...</td>\n      <td>HSD3B1</td>\n      <td>GeneProduct</td>\n      <td>Uniprot-TrEMBL</td>\n      <td>P14060</td>\n      <td>NaN</td>\n      <td>NaN</td>\n      <td>NaN</td>\n      <td>NaN</td>\n      <td>NaN</td>\n      <td>NaN</td>\n      <td>NaN</td>\n      <td>NaN</td>\n    </tr>\n    <tr>\n      <th>2</th>\n      <td>DataNode</td>\n      <td>a452a</td>\n      <td>NaN</td>\n      <td>SingleFreeNode</td>\n      <td>NaN</td>\n      <td>[DataNode, SingleFreeNode, WikiPathways:WP5280...</td>\n      <td>Glucocorticoid\\nbiosynthesis</td>\n      <td>Pathway</td>\n      <td>WikiPathways</td>\n      <td>WP5280</td>\n      <td>NaN</td>\n      <td>NaN</td>\n      <td>NaN</td>\n      <td>NaN</td>\n      <td>NaN</td>\n      <td>NaN</td>\n      <td>NaN</td>\n      <td>NaN</td>\n    </tr>\n    <tr>\n      <th>3</th>\n      <td>Interaction</td>\n      <td>a5fdb</td>\n      <td>[ba0ac, eea0d]</td>\n      <td>Edge</td>\n      <td>MimConversion</td>\n      <td>[Interaction, Edge, Rhea:42114]</td>\n      <td>NaN</td>\n      <td>NaN</td>\n      <td>Rhea</td>\n      <td>42114</td>\n      <td>[f580a]</td>\n      <td>NaN</td>\n      <td>NaN</td>\n      <td>NaN</td>\n      <td>NaN</td>\n      <td>NaN</td>\n      <td>NaN</td>\n      <td>NaN</td>\n    </tr>\n    <tr>\n      <th>4</th>\n      <td>Interaction</td>\n      <td>a6b74</td>\n      <td>[c6124, f478b]</td>\n      <td>Edge</td>\n      <td>MimCatalysis</td>\n      <td>[Interaction, Edge]</td>\n      <td>NaN</td>\n      <td>NaN</td>\n      <td>NaN</td>\n      <td>NaN</td>\n      <td>NaN</td>\n      <td>[{'content': 'EC:1.14.14.16'}]</td>\n      <td>NaN</td>\n      <td>NaN</td>\n      <td>NaN</td>\n      <td>NaN</td>\n      <td>NaN</td>\n      <td>NaN</td>\n    </tr>\n    <tr>\n      <th>...</th>\n      <td>...</td>\n      <td>...</td>\n      <td>...</td>\n      <td>...</td>\n      <td>...</td>\n      <td>...</td>\n      <td>...</td>\n      <td>...</td>\n      <td>...</td>\n      <td>...</td>\n      <td>...</td>\n      <td>...</td>\n      <td>...</td>\n      <td>...</td>\n      <td>...</td>\n      <td>...</td>\n      <td>...</td>\n      <td>...</td>\n    </tr>\n    <tr>\n      <th>82</th>\n      <td>DataNode</td>\n      <td>fc254</td>\n      <td>NaN</td>\n      <td>SingleFreeNode</td>\n      <td>NaN</td>\n      <td>[DataNode, SingleFreeNode, Uniprot-TrEMBL:P518...</td>\n      <td>AKR1D1</td>\n      <td>GeneProduct</td>\n      <td>Uniprot-TrEMBL</td>\n      <td>P51857</td>\n      <td>NaN</td>\n      <td>NaN</td>\n      <td>NaN</td>\n      <td>NaN</td>\n      <td>NaN</td>\n      <td>NaN</td>\n      <td>NaN</td>\n      <td>NaN</td>\n    </tr>\n    <tr>\n      <th>83</th>\n      <td>DataNode</td>\n      <td>fc6b7</td>\n      <td>NaN</td>\n      <td>SingleFreeNode</td>\n      <td>NaN</td>\n      <td>[DataNode, SingleFreeNode, LIPID MAPS:LMST0203...</td>\n      <td>Pregnenediol</td>\n      <td>Metabolite</td>\n      <td>LIPID MAPS</td>\n      <td>LMST02030205</td>\n      <td>NaN</td>\n      <td>NaN</td>\n      <td>NaN</td>\n      <td>NaN</td>\n      <td>NaN</td>\n      <td>NaN</td>\n      <td>NaN</td>\n      <td>NaN</td>\n    </tr>\n    <tr>\n      <th>84</th>\n      <td>Interaction</td>\n      <td>fde6c</td>\n      <td>[f2eec, efcee]</td>\n      <td>Edge</td>\n      <td>MimConversion</td>\n      <td>[Interaction, Edge, Rhea:34340]</td>\n      <td>NaN</td>\n      <td>NaN</td>\n      <td>Rhea</td>\n      <td>34340</td>\n      <td>[f02d8]</td>\n      <td>[{'content': 'EC:1.14.15.6'}]</td>\n      <td>NaN</td>\n      <td>NaN</td>\n      <td>NaN</td>\n      <td>NaN</td>\n      <td>NaN</td>\n      <td>NaN</td>\n    </tr>\n    <tr>\n      <th>85</th>\n      <td>DataNode</td>\n      <td>fe015</td>\n      <td>NaN</td>\n      <td>SingleFreeNode</td>\n      <td>NaN</td>\n      <td>[DataNode, SingleFreeNode, LIPID MAPS:LMST0203...</td>\n      <td>Allopregnanolone</td>\n      <td>Metabolite</td>\n      <td>LIPID MAPS</td>\n      <td>LMST02030130</td>\n      <td>NaN</td>\n      <td>NaN</td>\n      <td>NaN</td>\n      <td>NaN</td>\n      <td>NaN</td>\n      <td>NaN</td>\n      <td>NaN</td>\n      <td>NaN</td>\n    </tr>\n    <tr>\n      <th>86</th>\n      <td>Interaction</td>\n      <td>feda2</td>\n      <td>[f5ff5, e43d7]</td>\n      <td>Edge</td>\n      <td>MimConversion</td>\n      <td>[Interaction, Edge]</td>\n      <td>NaN</td>\n      <td>NaN</td>\n      <td>NaN</td>\n      <td>NaN</td>\n      <td>NaN</td>\n      <td>NaN</td>\n      <td>NaN</td>\n      <td>NaN</td>\n      <td>NaN</td>\n      <td>NaN</td>\n      <td>NaN</td>\n      <td>NaN</td>\n    </tr>\n  </tbody>\n</table>\n<p>87 rows × 18 columns</p>\n</div>"
     },
     "execution_count": 51,
     "metadata": {},
     "output_type": "execute_result"
    }
   ],
   "source": [
    "df = pd.read_json('./wp5277.json')\n",
    "df = pd.json_normalize(df['entitiesById'])\n",
    "df.drop(columns=['drawAs', 'fill', 'points', 'stroke', 'strokeWidth', 'zIndex', 'fontFamily', 'fontSize', 'fontStyle', 'fontWeight', 'height', 'lineHeight', 'overflow', 'padding', 'textAlign', 'textDecoration', 'textOverflow', 'verticalAlign', 'whiteSpace', 'width', 'x', 'y', 'rx', 'ry', 'attachmentDisplay.offset', 'attachmentDisplay.position', 'contains', 'fillOpacity', 'strokeDasharray', 'citations', 'isPartOf'], inplace=True)\n",
    "df = df[df['gpmlElementName'] != 'PublicationXref'] \n",
    "df = df[df['gpmlElementName'] != 'openControlledVocabulary'] \n",
    "df = df[df['gpmlElementName'].notnull()] \n",
    "df"
   ],
   "metadata": {
    "collapsed": false,
    "ExecuteTime": {
     "end_time": "2025-06-21T16:31:52.493934Z",
     "start_time": "2025-06-21T16:31:52.458457Z"
    }
   },
   "id": "a237a53355b66ef0"
  },
  {
   "cell_type": "code",
   "outputs": [
    {
     "data": {
      "text/plain": "       id                          textContent xrefIdentifier\n7   ab7f9                      Isoprogesterone   LMST02030299\n22  b872c                          Cholesterol   LMST01010001\n23  ba0ac                         Progesterone   LMST02030159\n42  d23e6  3alpha-hydroxy-5beta-pregnan-20-one   LMST02030175\n45  d6a61            5beta-pregnane-3,20-dione   LMST02030146\n46  d7455                         Pregnanediol   LMST02030264\n49  dbb10           Pregnanediol-3-glucuronide   LMST05010073\n56  e43d7                        Pregnenetriol   LMST02030263\n65  ec77a               11-deoxycorticosterone   LMST02030087\n66  eea0d          20alpha-Hydroxyprogesterone   LMST02030169\n67  efcee         20R,22R-dihydroxycholesterol   LMST01010200\n72  f2eec               22R-Hydroxycholesterol   LMST01010086\n74  f4277          17alpha-hydroxyprogesterone   LMST02030161\n78  f5961                     11-deoxycortisol   LMST02030086\n79  f5ff5          17alpha-hydroxypregnenolone   LMST02030089\n80  fa278                         Pregnenolone   LMST02030088\n81  fbb9b           5alpha-pregnane-3,20-dione   LMST02030170\n83  fc6b7                         Pregnenediol   LMST02030205\n85  fe015                     Allopregnanolone   LMST02030130",
      "text/html": "<div>\n<style scoped>\n    .dataframe tbody tr th:only-of-type {\n        vertical-align: middle;\n    }\n\n    .dataframe tbody tr th {\n        vertical-align: top;\n    }\n\n    .dataframe thead th {\n        text-align: right;\n    }\n</style>\n<table border=\"1\" class=\"dataframe\">\n  <thead>\n    <tr style=\"text-align: right;\">\n      <th></th>\n      <th>id</th>\n      <th>textContent</th>\n      <th>xrefIdentifier</th>\n    </tr>\n  </thead>\n  <tbody>\n    <tr>\n      <th>7</th>\n      <td>ab7f9</td>\n      <td>Isoprogesterone</td>\n      <td>LMST02030299</td>\n    </tr>\n    <tr>\n      <th>22</th>\n      <td>b872c</td>\n      <td>Cholesterol</td>\n      <td>LMST01010001</td>\n    </tr>\n    <tr>\n      <th>23</th>\n      <td>ba0ac</td>\n      <td>Progesterone</td>\n      <td>LMST02030159</td>\n    </tr>\n    <tr>\n      <th>42</th>\n      <td>d23e6</td>\n      <td>3alpha-hydroxy-5beta-pregnan-20-one</td>\n      <td>LMST02030175</td>\n    </tr>\n    <tr>\n      <th>45</th>\n      <td>d6a61</td>\n      <td>5beta-pregnane-3,20-dione</td>\n      <td>LMST02030146</td>\n    </tr>\n    <tr>\n      <th>46</th>\n      <td>d7455</td>\n      <td>Pregnanediol</td>\n      <td>LMST02030264</td>\n    </tr>\n    <tr>\n      <th>49</th>\n      <td>dbb10</td>\n      <td>Pregnanediol-3-glucuronide</td>\n      <td>LMST05010073</td>\n    </tr>\n    <tr>\n      <th>56</th>\n      <td>e43d7</td>\n      <td>Pregnenetriol</td>\n      <td>LMST02030263</td>\n    </tr>\n    <tr>\n      <th>65</th>\n      <td>ec77a</td>\n      <td>11-deoxycorticosterone</td>\n      <td>LMST02030087</td>\n    </tr>\n    <tr>\n      <th>66</th>\n      <td>eea0d</td>\n      <td>20alpha-Hydroxyprogesterone</td>\n      <td>LMST02030169</td>\n    </tr>\n    <tr>\n      <th>67</th>\n      <td>efcee</td>\n      <td>20R,22R-dihydroxycholesterol</td>\n      <td>LMST01010200</td>\n    </tr>\n    <tr>\n      <th>72</th>\n      <td>f2eec</td>\n      <td>22R-Hydroxycholesterol</td>\n      <td>LMST01010086</td>\n    </tr>\n    <tr>\n      <th>74</th>\n      <td>f4277</td>\n      <td>17alpha-hydroxyprogesterone</td>\n      <td>LMST02030161</td>\n    </tr>\n    <tr>\n      <th>78</th>\n      <td>f5961</td>\n      <td>11-deoxycortisol</td>\n      <td>LMST02030086</td>\n    </tr>\n    <tr>\n      <th>79</th>\n      <td>f5ff5</td>\n      <td>17alpha-hydroxypregnenolone</td>\n      <td>LMST02030089</td>\n    </tr>\n    <tr>\n      <th>80</th>\n      <td>fa278</td>\n      <td>Pregnenolone</td>\n      <td>LMST02030088</td>\n    </tr>\n    <tr>\n      <th>81</th>\n      <td>fbb9b</td>\n      <td>5alpha-pregnane-3,20-dione</td>\n      <td>LMST02030170</td>\n    </tr>\n    <tr>\n      <th>83</th>\n      <td>fc6b7</td>\n      <td>Pregnenediol</td>\n      <td>LMST02030205</td>\n    </tr>\n    <tr>\n      <th>85</th>\n      <td>fe015</td>\n      <td>Allopregnanolone</td>\n      <td>LMST02030130</td>\n    </tr>\n  </tbody>\n</table>\n</div>"
     },
     "execution_count": 54,
     "metadata": {},
     "output_type": "execute_result"
    }
   ],
   "source": [
    "df_nodes = df[df['gpmlElementName'] == 'DataNode'].dropna(axis=1, how='all')\n",
    "df_nodes = df_nodes[df_nodes['wpType'] != 'Pathway']\n",
    "df_nodes = df_nodes[df_nodes['wpType'] != 'GeneProduct']\n",
    "df_nodes.drop(columns=['gpmlElementName', 'kaavioType', 'type', 'xrefDataSource', 'wpType'], inplace=True)\n",
    "\n",
    "df_nodes\n",
    "# df_nodes['type']"
   ],
   "metadata": {
    "collapsed": false,
    "ExecuteTime": {
     "end_time": "2025-06-21T16:34:01.693859Z",
     "start_time": "2025-06-21T16:34:01.686479Z"
    }
   },
   "id": "7b5f29883411f8",
   "execution_count": 54
  },
  {
   "cell_type": "code",
   "outputs": [
    {
     "data": {
      "text/plain": "array(['GeneProduct', 'Pathway', 'Metabolite'], dtype=object)"
     },
     "execution_count": 49,
     "metadata": {},
     "output_type": "execute_result"
    }
   ],
   "source": [
    "df_nodes['wpType'].unique()"
   ],
   "metadata": {
    "collapsed": false,
    "ExecuteTime": {
     "end_time": "2025-06-21T16:30:25.011810Z",
     "start_time": "2025-06-21T16:30:25.007676Z"
    }
   },
   "id": "5a1ff652797d441c",
   "execution_count": 49
  },
  {
   "cell_type": "code",
   "outputs": [
    {
     "data": {
      "text/plain": "       id isAttachedTo\n0   a074e        c7978\n1   a074e        fde6c\n2   a5fdb        ba0ac\n3   a5fdb        eea0d\n4   a6b74        c6124\n..    ...          ...\n67  f5324        d23e6\n68  fde6c        f2eec\n69  fde6c        efcee\n70  feda2        f5ff5\n71  feda2        e43d7\n\n[72 rows x 2 columns]",
      "text/html": "<div>\n<style scoped>\n    .dataframe tbody tr th:only-of-type {\n        vertical-align: middle;\n    }\n\n    .dataframe tbody tr th {\n        vertical-align: top;\n    }\n\n    .dataframe thead th {\n        text-align: right;\n    }\n</style>\n<table border=\"1\" class=\"dataframe\">\n  <thead>\n    <tr style=\"text-align: right;\">\n      <th></th>\n      <th>id</th>\n      <th>isAttachedTo</th>\n    </tr>\n  </thead>\n  <tbody>\n    <tr>\n      <th>0</th>\n      <td>a074e</td>\n      <td>c7978</td>\n    </tr>\n    <tr>\n      <th>1</th>\n      <td>a074e</td>\n      <td>fde6c</td>\n    </tr>\n    <tr>\n      <th>2</th>\n      <td>a5fdb</td>\n      <td>ba0ac</td>\n    </tr>\n    <tr>\n      <th>3</th>\n      <td>a5fdb</td>\n      <td>eea0d</td>\n    </tr>\n    <tr>\n      <th>4</th>\n      <td>a6b74</td>\n      <td>c6124</td>\n    </tr>\n    <tr>\n      <th>...</th>\n      <td>...</td>\n      <td>...</td>\n    </tr>\n    <tr>\n      <th>67</th>\n      <td>f5324</td>\n      <td>d23e6</td>\n    </tr>\n    <tr>\n      <th>68</th>\n      <td>fde6c</td>\n      <td>f2eec</td>\n    </tr>\n    <tr>\n      <th>69</th>\n      <td>fde6c</td>\n      <td>efcee</td>\n    </tr>\n    <tr>\n      <th>70</th>\n      <td>feda2</td>\n      <td>f5ff5</td>\n    </tr>\n    <tr>\n      <th>71</th>\n      <td>feda2</td>\n      <td>e43d7</td>\n    </tr>\n  </tbody>\n</table>\n<p>72 rows × 2 columns</p>\n</div>"
     },
     "execution_count": 40,
     "metadata": {},
     "output_type": "execute_result"
    }
   ],
   "source": [
    "df_edges = df[df['gpmlElementName'] == 'Interaction'].dropna(axis=1, how='all')\n",
    "df_edges.drop(columns=['gpmlElementName', 'kaavioType', 'markerEnd', 'type', 'xrefDataSource', 'xrefIdentifier', 'burrs', 'comments'], inplace=True)\n",
    "df_edges = df_edges.explode('isAttachedTo', ignore_index=True)\n",
    "\n",
    "df_edges"
   ],
   "metadata": {
    "collapsed": false,
    "ExecuteTime": {
     "end_time": "2025-06-21T15:53:45.870289Z",
     "start_time": "2025-06-21T15:53:45.862092Z"
    }
   },
   "id": "fd49863cf26e75b2",
   "execution_count": 40
  },
  {
   "cell_type": "code",
   "outputs": [],
   "source": [],
   "metadata": {
    "collapsed": false
   },
   "id": "4e09f2ba3b053fa8"
  }
 ],
 "metadata": {
  "kernelspec": {
   "display_name": "Python 3",
   "language": "python",
   "name": "python3"
  },
  "language_info": {
   "codemirror_mode": {
    "name": "ipython",
    "version": 2
   },
   "file_extension": ".py",
   "mimetype": "text/x-python",
   "name": "python",
   "nbconvert_exporter": "python",
   "pygments_lexer": "ipython2",
   "version": "2.7.6"
  }
 },
 "nbformat": 4,
 "nbformat_minor": 5
}
