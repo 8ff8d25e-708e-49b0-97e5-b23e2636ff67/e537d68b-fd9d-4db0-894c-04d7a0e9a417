{
 "cells": [
  {
   "cell_type": "code",
   "execution_count": null,
   "id": "61cb5a9f-bcce-473e-bd5f-856350a43931",
   "metadata": {},
   "outputs": [],
   "source": [
    "@bind(\"isParentOf\", \"csv useHeaders=true\", \"./disk/kgs\", \"parents.csv\").\n"
   ]
  }
 ],
 "metadata": {
  "kernelspec": {
   "display_name": "Vadalog",
   "language": "Vadalog",
   "name": "vadalog_kernel"
  },
  "language_info": {
   "codemirror_mode": "vadalog",
   "file_extension": ".vada",
   "mimetype": "text/x-vadalog",
   "name": "vadalog"
  },
  "vadalog": {
   "programParameters": [],
   "version": 1
  }
 },
 "nbformat": 4,
 "nbformat_minor": 5
}
