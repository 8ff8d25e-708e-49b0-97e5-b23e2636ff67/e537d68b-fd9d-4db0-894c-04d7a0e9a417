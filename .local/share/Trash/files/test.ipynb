{
 "cells": [
  {
   "cell_type": "code",
   "execution_count": null,
   "id": "968892d2-345e-4202-bfa5-bc150e53faeb",
   "metadata": {},
   "outputs": [],
   "source": []
  }
 ],
 "metadata": {
  "kernelspec": {
   "display_name": "Vadalog",
   "language": "Vadalog",
   "name": "vadalog_kernel"
  },
  "language_info": {
   "codemirror_mode": "vadalog",
   "file_extension": ".vada",
   "mimetype": "text/x-vadalog",
   "name": "vadalog"
  },
  "vadalog": {
   "programParameters": [],
   "version": 1
  }
 },
 "nbformat": 4,
 "nbformat_minor": 5
}
