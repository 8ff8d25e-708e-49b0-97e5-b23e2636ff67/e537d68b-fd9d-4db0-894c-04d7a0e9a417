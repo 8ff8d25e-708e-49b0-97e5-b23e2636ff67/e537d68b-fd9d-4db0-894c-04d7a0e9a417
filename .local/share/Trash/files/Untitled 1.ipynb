{
 "cells": [
  {
   "cell_type": "code",
   "execution_count": null,
   "id": "d4cfedff-ea41-452b-bd14-70270eadd3ed",
   "metadata": {},
   "outputs": [],
   "source": []
  }
 ],
 "metadata": {
  "kernelspec": {
   "display_name": "",
   "name": ""
  },
  "language_info": {
   "name": ""
  },
  "vadalog": {
   "programParameters": [],
   "version": 1
  }
 },
 "nbformat": 4,
 "nbformat_minor": 5
}
