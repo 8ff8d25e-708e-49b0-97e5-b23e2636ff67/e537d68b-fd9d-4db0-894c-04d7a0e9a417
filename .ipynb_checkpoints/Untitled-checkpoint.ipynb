{
 "cells": [
  {
   "cell_type": "code",
   "execution_count": null,
   "id": "5d6e3213-1ffe-44f9-a413-48e213ece051",
   "metadata": {
    "tags": []
   },
   "outputs": [],
   "source": [
    "@bind(\"receptor\",\"csv\",\"./disk/assignment/data/csvs\",\"receptors.csv\").\n",
    "% @bind(\"isParentOf\", \"csv useHeaders=true\", \"./disk/kgs\", \"parents.csv\").\n",
    "\n",
    "hormoneReceptorType(Id) :- receptor(Id,_,_,_,_,_,_,_,_,_,_,_,_,_,_,_,_,_,_).\n",
    "\n",
    "@output(\"hormoneReceptorType\").\n"
   ]
  },
  {
   "cell_type": "code",
   "execution_count": null,
   "id": "24f0de41-e775-4f05-9230-5fbe8fff68d6",
   "metadata": {},
   "outputs": [],
   "source": []
  }
 ],
 "metadata": {
  "kernelspec": {
   "display_name": "Vadalog",
   "language": "Vadalog",
   "name": "vadalog_kernel"
  },
  "language_info": {
   "codemirror_mode": "vadalog",
   "file_extension": ".vada",
   "mimetype": "text/x-vadalog",
   "name": "vadalog"
  },
  "vadalog": {
   "programParameters": [],
   "version": 1
  }
 },
 "nbformat": 4,
 "nbformat_minor": 5
}
